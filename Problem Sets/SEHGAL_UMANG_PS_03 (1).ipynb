{
 "cells": [
  {
   "cell_type": "markdown",
   "metadata": {
    "ein.tags": "worksheet-0",
    "slideshow": {
     "slide_type": "-"
    }
   },
   "source": [
    "# Problem Set 3 - UMANG SEHGAL"
   ]
  },
  {
   "cell_type": "markdown",
   "metadata": {
    "ein.tags": "worksheet-0",
    "slideshow": {
     "slide_type": "-"
    }
   },
   "source": [
    "## Introduction to the assignment\n",
    "\n",
    "For this assignment, you will be using data from the [Progresa\n",
    "program](http://en.wikipedia.org/wiki/Oportunidades), a government\n",
    "social assistance program in Mexico. This program, as well as the\n",
    "details of its impact, are described in the paper \"[School subsidies\n",
    "for the poor: evaluating the Mexican Progresa poverty\n",
    "program](http://www.sciencedirect.com/science/article/pii/S0304387803001858)\",\n",
    "by Paul Shultz (available on Canvas).  The data\n",
    "(progresa_sample.csv.gz) is available on canvas\n",
    "in files/data.\n",
    "\n",
    "Please read the paper to familiarize yourself with\n",
    "the PROGRESA program before beginning this problem set, so you have a\n",
    "rough sense of where the data come from and how they were\n",
    "generated. If you just proceed into the problem set without\n",
    "understanding Progresa or the data, it will be very difficult!\n",
    "\n",
    "The goal of this problem set is to implement some of the basic\n",
    "econometric techniques that you are learning in class to measure the\n",
    "impact of Progresa on secondary school enrollment rates, in particular\n",
    "differences-in-differences.  Your task is to **estimate the impact of\n",
    "_progresa_ subsidies on the school attendance**.  Note: this asks to\n",
    "estimate a causal effect.\n",
    "\n",
    "The timeline of the program was:\n",
    "\n",
    " * Baseline survey conducted in 1997\n",
    " * Intervention begins in 1998, \"Wave 1\" of data collected in 1998\n",
    " * \"Wave 2 of data\" collected in 1999\n",
    " * Evaluation ends in 2000, at which point the control villages were treated. \n",
    " \n",
    "When you are ready, download the progresa_sample.csv data from\n",
    "Canvas. The data are actual data collected to evaluate the impact of\n",
    "the Progresa program.  In this file, each row corresponds to an\n",
    "observation taken for a given child for a given year. There are two\n",
    "years of data (1997 and 1998), and just under 40,000 children who are\n",
    "surveyed in both years.  For each child-year observation, the\n",
    "following variables are collected:\n",
    "\n",
    "| Variable name | Description|\n",
    "|------|------|\n",
    "|year\t  |year in which data is collected\n",
    "|sex\t  |male = 1|\n",
    "|indig\t  |indigenous = 1|\n",
    "|dist_sec |nearest distance to a secondary school|\n",
    "|sc\t      |enrolled in school in year of survey (=1)|\n",
    "|grc      |grade enrolled|\n",
    "|fam_n    |family size|\n",
    "|min_dist |\tmin distance to an urban center|\n",
    "|dist_cap |\tmin distance to the capital|\n",
    "|poor     |\tpoor = \"pobre\", not poor = \"no pobre\"|\n",
    "|progresa |treatment = \"basal\", control = \"0\"|\n",
    "|hohedu\t  |years of schooling of head of household|\n",
    "|hohwag\t  |monthly wages of head of household|\n",
    "|welfare_index|\twelfare index used to classify poor|\n",
    "|hohsex\t|gender of head of household (male=1)|\n",
    "|hohage\t|age of head of household|\n",
    "|age\t|years old|\n",
    "|folnum\t|individual id|\n",
    "|village|\tvillage id|\n",
    "|sc97\t|enrolled in school in 1997 (=1) |"
   ]
  },
  {
   "cell_type": "markdown",
   "metadata": {
    "ein.tags": "worksheet-0",
    "slideshow": {
     "slide_type": "-"
    }
   },
   "source": [
    "## Part 1: Descriptive analysis\n",
    "\n",
    "### 1.1\tSummary Statistics\n",
    "\n",
    "Report summary statistics (mean, standard deviation, and number of missings) for all of\n",
    "the demographic variables in the dataset (i.e., everything except\n",
    "year, folnum, village).  Present the actual levels for 'progresa' and\n",
    "'poor'.  Do these fit with the documentation above?\n",
    "\n",
    "Present these in a single table alphabetized\n",
    "by variable name. Do NOT simply expect the grader to scroll through\n",
    "your output!"
   ]
  },
  {
   "cell_type": "code",
   "execution_count": 1,
   "metadata": {
    "autoscroll": false,
    "ein.tags": "worksheet-0",
    "slideshow": {
     "slide_type": "-"
    }
   },
   "outputs": [],
   "source": [
    "import pandas as pd\n",
    "import numpy as np\n",
    "from scipy import stats\n",
    "import matplotlib.pyplot as plt\n",
    "import matplotlib\n",
    "from pylab import *\n",
    "%matplotlib inline"
   ]
  },
  {
   "cell_type": "code",
   "execution_count": 28,
   "metadata": {},
   "outputs": [
    {
     "data": {
      "text/html": [
       "<div>\n",
       "<style scoped>\n",
       "    .dataframe tbody tr th:only-of-type {\n",
       "        vertical-align: middle;\n",
       "    }\n",
       "\n",
       "    .dataframe tbody tr th {\n",
       "        vertical-align: top;\n",
       "    }\n",
       "\n",
       "    .dataframe thead th {\n",
       "        text-align: right;\n",
       "    }\n",
       "</style>\n",
       "<table border=\"1\" class=\"dataframe\">\n",
       "  <thead>\n",
       "    <tr style=\"text-align: right;\">\n",
       "      <th></th>\n",
       "      <th>sex</th>\n",
       "      <th>indig</th>\n",
       "      <th>dist_sec</th>\n",
       "      <th>sc</th>\n",
       "      <th>grc</th>\n",
       "      <th>fam_n</th>\n",
       "      <th>min_dist</th>\n",
       "      <th>dist_cap</th>\n",
       "      <th>poor</th>\n",
       "      <th>progresa</th>\n",
       "      <th>hohedu</th>\n",
       "      <th>hohwag</th>\n",
       "      <th>welfare_index</th>\n",
       "      <th>hohsex</th>\n",
       "      <th>hohage</th>\n",
       "      <th>age</th>\n",
       "      <th>grc97</th>\n",
       "      <th>sc97</th>\n",
       "    </tr>\n",
       "  </thead>\n",
       "  <tbody>\n",
       "    <tr>\n",
       "      <th>mean</th>\n",
       "      <td>0.512211</td>\n",
       "      <td>0.298324</td>\n",
       "      <td>2.418910</td>\n",
       "      <td>0.819818</td>\n",
       "      <td>3.963537</td>\n",
       "      <td>7.215715</td>\n",
       "      <td>103.447520</td>\n",
       "      <td>147.674452</td>\n",
       "      <td>NaN</td>\n",
       "      <td>NaN</td>\n",
       "      <td>2.768104</td>\n",
       "      <td>586.985312</td>\n",
       "      <td>690.346564</td>\n",
       "      <td>0.925185</td>\n",
       "      <td>44.436717</td>\n",
       "      <td>11.366460</td>\n",
       "      <td>3.705372</td>\n",
       "      <td>0.813922</td>\n",
       "    </tr>\n",
       "    <tr>\n",
       "      <th>std</th>\n",
       "      <td>0.499854</td>\n",
       "      <td>0.457525</td>\n",
       "      <td>2.234109</td>\n",
       "      <td>0.384342</td>\n",
       "      <td>2.499063</td>\n",
       "      <td>2.352900</td>\n",
       "      <td>42.089441</td>\n",
       "      <td>76.063134</td>\n",
       "      <td>NaN</td>\n",
       "      <td>NaN</td>\n",
       "      <td>2.656106</td>\n",
       "      <td>788.133664</td>\n",
       "      <td>139.491130</td>\n",
       "      <td>0.263095</td>\n",
       "      <td>11.620372</td>\n",
       "      <td>3.167744</td>\n",
       "      <td>2.572387</td>\n",
       "      <td>0.389172</td>\n",
       "    </tr>\n",
       "    <tr>\n",
       "      <th>count</th>\n",
       "      <td>77226.000000</td>\n",
       "      <td>76950.000000</td>\n",
       "      <td>77250.000000</td>\n",
       "      <td>68797.000000</td>\n",
       "      <td>70701.000000</td>\n",
       "      <td>77250.000000</td>\n",
       "      <td>77250.000000</td>\n",
       "      <td>77250.000000</td>\n",
       "      <td>77250</td>\n",
       "      <td>77250</td>\n",
       "      <td>77250.000000</td>\n",
       "      <td>77250.000000</td>\n",
       "      <td>77040.000000</td>\n",
       "      <td>77230.000000</td>\n",
       "      <td>77240.000000</td>\n",
       "      <td>77250.000000</td>\n",
       "      <td>77250.000000</td>\n",
       "      <td>73378.000000</td>\n",
       "    </tr>\n",
       "  </tbody>\n",
       "</table>\n",
       "</div>"
      ],
      "text/plain": [
       "                sex         indig      dist_sec            sc           grc  \\\n",
       "mean       0.512211      0.298324      2.418910      0.819818      3.963537   \n",
       "std        0.499854      0.457525      2.234109      0.384342      2.499063   \n",
       "count  77226.000000  76950.000000  77250.000000  68797.000000  70701.000000   \n",
       "\n",
       "              fam_n      min_dist      dist_cap   poor progresa        hohedu  \\\n",
       "mean       7.215715    103.447520    147.674452    NaN      NaN      2.768104   \n",
       "std        2.352900     42.089441     76.063134    NaN      NaN      2.656106   \n",
       "count  77250.000000  77250.000000  77250.000000  77250    77250  77250.000000   \n",
       "\n",
       "             hohwag  welfare_index        hohsex        hohage           age  \\\n",
       "mean     586.985312     690.346564      0.925185     44.436717     11.366460   \n",
       "std      788.133664     139.491130      0.263095     11.620372      3.167744   \n",
       "count  77250.000000   77040.000000  77230.000000  77240.000000  77250.000000   \n",
       "\n",
       "              grc97          sc97  \n",
       "mean       3.705372      0.813922  \n",
       "std        2.572387      0.389172  \n",
       "count  77250.000000  73378.000000  "
      ]
     },
     "execution_count": 28,
     "metadata": {},
     "output_type": "execute_result"
    }
   ],
   "source": [
    "df = pd.read_csv(\"/home/umang-uw/Downloads/progresa_sample.csv\")\n",
    "#Dropping off the columns which are not needed for summary stats.\n",
    "temp = df.drop(['year','folnum','village'], axis=1)\n",
    "temp.describe(include = 'all').loc[['mean','std','count']]"
   ]
  },
  {
   "cell_type": "markdown",
   "metadata": {
    "ein.tags": "worksheet-0",
    "slideshow": {
     "slide_type": "-"
    }
   },
   "source": [
    "### 1.2 Differences at baseline?\n",
    "Now let's investigate the differences in baseline.  Are the baseline (1997) demographic characteristics **for the poor**\n",
    "different in treatment and control villages?\n",
    "\n",
    "I suggest you to use a T-Test to\n",
    "determine whether there is a statistically significant difference in\n",
    "the average values of each of the variables in the dataset. Focus only\n",
    "on the data from 1997 for poor.\n",
    "\n",
    "Present your results in a single table with the following columns and 14 (or so) rows:\n",
    "\n",
    "| Variable name | Average value (Treatment villages) | Average value (Control villages) | Difference (Treat - Control) | p-value |\n",
    "|------|------|------|------|------|\n",
    "|Male|?|?|?|?|\n"
   ]
  },
  {
   "cell_type": "code",
   "execution_count": 3,
   "metadata": {
    "autoscroll": false,
    "ein.tags": "worksheet-0",
    "slideshow": {
     "slide_type": "-"
    }
   },
   "outputs": [
    {
     "data": {
      "text/html": [
       "<div>\n",
       "<style scoped>\n",
       "    .dataframe tbody tr th:only-of-type {\n",
       "        vertical-align: middle;\n",
       "    }\n",
       "\n",
       "    .dataframe tbody tr th {\n",
       "        vertical-align: top;\n",
       "    }\n",
       "\n",
       "    .dataframe thead th {\n",
       "        text-align: right;\n",
       "    }\n",
       "</style>\n",
       "<table border=\"1\" class=\"dataframe\">\n",
       "  <thead>\n",
       "    <tr style=\"text-align: right;\">\n",
       "      <th></th>\n",
       "      <th>Variable name</th>\n",
       "      <th>Average value (Treatment villages)</th>\n",
       "      <th>Average value (Control villages)</th>\n",
       "      <th>Difference (Treat - Control)</th>\n",
       "      <th>p-value</th>\n",
       "    </tr>\n",
       "  </thead>\n",
       "  <tbody>\n",
       "    <tr>\n",
       "      <th>0</th>\n",
       "      <td>sex</td>\n",
       "      <td>0.519317</td>\n",
       "      <td>0.505052</td>\n",
       "      <td>2.50669</td>\n",
       "      <td>0.0121917</td>\n",
       "    </tr>\n",
       "    <tr>\n",
       "      <th>1</th>\n",
       "      <td>indig</td>\n",
       "      <td>0.325986</td>\n",
       "      <td>0.332207</td>\n",
       "      <td>-1.16171</td>\n",
       "      <td>0.24536</td>\n",
       "    </tr>\n",
       "    <tr>\n",
       "      <th>2</th>\n",
       "      <td>dist_sec</td>\n",
       "      <td>2.45312</td>\n",
       "      <td>2.50766</td>\n",
       "      <td>-2.10043</td>\n",
       "      <td>0.0356984</td>\n",
       "    </tr>\n",
       "    <tr>\n",
       "      <th>3</th>\n",
       "      <td>sc</td>\n",
       "      <td>0.822697</td>\n",
       "      <td>0.815186</td>\n",
       "      <td>1.66874</td>\n",
       "      <td>0.0951781</td>\n",
       "    </tr>\n",
       "    <tr>\n",
       "      <th>4</th>\n",
       "      <td>grc</td>\n",
       "      <td>3.5316</td>\n",
       "      <td>3.54305</td>\n",
       "      <td>-0.400196</td>\n",
       "      <td>0.689015</td>\n",
       "    </tr>\n",
       "    <tr>\n",
       "      <th>5</th>\n",
       "      <td>fam_n</td>\n",
       "      <td>7.28133</td>\n",
       "      <td>7.30247</td>\n",
       "      <td>-0.794167</td>\n",
       "      <td>0.427104</td>\n",
       "    </tr>\n",
       "    <tr>\n",
       "      <th>6</th>\n",
       "      <td>min_dist</td>\n",
       "      <td>107.153</td>\n",
       "      <td>103.238</td>\n",
       "      <td>8.20658</td>\n",
       "      <td>2.35831e-16</td>\n",
       "    </tr>\n",
       "    <tr>\n",
       "      <th>7</th>\n",
       "      <td>dist_cap</td>\n",
       "      <td>150.829</td>\n",
       "      <td>153.77</td>\n",
       "      <td>-3.33908</td>\n",
       "      <td>0.000841501</td>\n",
       "    </tr>\n",
       "    <tr>\n",
       "      <th>8</th>\n",
       "      <td>poor</td>\n",
       "      <td>1</td>\n",
       "      <td>1</td>\n",
       "      <td>NaN</td>\n",
       "      <td>NaN</td>\n",
       "    </tr>\n",
       "    <tr>\n",
       "      <th>9</th>\n",
       "      <td>progresa</td>\n",
       "      <td>1</td>\n",
       "      <td>0</td>\n",
       "      <td>inf</td>\n",
       "      <td>0</td>\n",
       "    </tr>\n",
       "    <tr>\n",
       "      <th>10</th>\n",
       "      <td>hohedu</td>\n",
       "      <td>2.66314</td>\n",
       "      <td>2.59035</td>\n",
       "      <td>2.54123</td>\n",
       "      <td>0.0110509</td>\n",
       "    </tr>\n",
       "    <tr>\n",
       "      <th>11</th>\n",
       "      <td>hohwag</td>\n",
       "      <td>544.34</td>\n",
       "      <td>573.164</td>\n",
       "      <td>-3.59459</td>\n",
       "      <td>0.000325384</td>\n",
       "    </tr>\n",
       "    <tr>\n",
       "      <th>12</th>\n",
       "      <td>welfare_index</td>\n",
       "      <td>655.428</td>\n",
       "      <td>659.579</td>\n",
       "      <td>-3.18859</td>\n",
       "      <td>0.00143102</td>\n",
       "    </tr>\n",
       "    <tr>\n",
       "      <th>13</th>\n",
       "      <td>hohsex</td>\n",
       "      <td>0.924656</td>\n",
       "      <td>0.922947</td>\n",
       "      <td>0.566312</td>\n",
       "      <td>0.571186</td>\n",
       "    </tr>\n",
       "    <tr>\n",
       "      <th>14</th>\n",
       "      <td>hohage</td>\n",
       "      <td>43.6488</td>\n",
       "      <td>44.2769</td>\n",
       "      <td>-4.77596</td>\n",
       "      <td>1.79624e-06</td>\n",
       "    </tr>\n",
       "    <tr>\n",
       "      <th>15</th>\n",
       "      <td>age</td>\n",
       "      <td>10.717</td>\n",
       "      <td>10.742</td>\n",
       "      <td>-0.70863</td>\n",
       "      <td>0.478559</td>\n",
       "    </tr>\n",
       "    <tr>\n",
       "      <th>16</th>\n",
       "      <td>grc97</td>\n",
       "      <td>3.5316</td>\n",
       "      <td>3.54305</td>\n",
       "      <td>-0.400196</td>\n",
       "      <td>0.689015</td>\n",
       "    </tr>\n",
       "    <tr>\n",
       "      <th>17</th>\n",
       "      <td>sc97</td>\n",
       "      <td>0.822697</td>\n",
       "      <td>0.815186</td>\n",
       "      <td>1.66874</td>\n",
       "      <td>0.0951781</td>\n",
       "    </tr>\n",
       "  </tbody>\n",
       "</table>\n",
       "</div>"
      ],
      "text/plain": [
       "    Variable name Average value (Treatment villages)  \\\n",
       "0             sex                           0.519317   \n",
       "1           indig                           0.325986   \n",
       "2        dist_sec                            2.45312   \n",
       "3              sc                           0.822697   \n",
       "4             grc                             3.5316   \n",
       "5           fam_n                            7.28133   \n",
       "6        min_dist                            107.153   \n",
       "7        dist_cap                            150.829   \n",
       "8            poor                                  1   \n",
       "9        progresa                                  1   \n",
       "10         hohedu                            2.66314   \n",
       "11         hohwag                             544.34   \n",
       "12  welfare_index                            655.428   \n",
       "13         hohsex                           0.924656   \n",
       "14         hohage                            43.6488   \n",
       "15            age                             10.717   \n",
       "16          grc97                             3.5316   \n",
       "17           sc97                           0.822697   \n",
       "\n",
       "   Average value (Control villages) Difference (Treat - Control)      p-value  \n",
       "0                          0.505052                      2.50669    0.0121917  \n",
       "1                          0.332207                     -1.16171      0.24536  \n",
       "2                           2.50766                     -2.10043    0.0356984  \n",
       "3                          0.815186                      1.66874    0.0951781  \n",
       "4                           3.54305                    -0.400196     0.689015  \n",
       "5                           7.30247                    -0.794167     0.427104  \n",
       "6                           103.238                      8.20658  2.35831e-16  \n",
       "7                            153.77                     -3.33908  0.000841501  \n",
       "8                                 1                          NaN          NaN  \n",
       "9                                 0                          inf            0  \n",
       "10                          2.59035                      2.54123    0.0110509  \n",
       "11                          573.164                     -3.59459  0.000325384  \n",
       "12                          659.579                     -3.18859   0.00143102  \n",
       "13                         0.922947                     0.566312     0.571186  \n",
       "14                          44.2769                     -4.77596  1.79624e-06  \n",
       "15                           10.742                     -0.70863     0.478559  \n",
       "16                          3.54305                    -0.400196     0.689015  \n",
       "17                         0.815186                      1.66874    0.0951781  "
      ]
     },
     "execution_count": 3,
     "metadata": {},
     "output_type": "execute_result"
    }
   ],
   "source": [
    "#Convert Categorical variables to Numeric\n",
    "df.loc[df.progresa == '0', 'progresa'] = 0\n",
    "df.loc[df.progresa == 'basal', 'progresa'] = 1\n",
    "df.loc[df['poor'] == 'pobre', 'poor'] = 1\n",
    "df.loc[df['poor'] ==  'no pobre', 'poor'] = 0\n",
    "\n",
    "ttest_table = pd.DataFrame(columns = ['Variable name', 'Average value (Treatment villages)', 'Average value (Control villages)', 'Difference (Treat - Control)', 'p-value'])\n",
    "control =  df[(df['poor'] == 1) & (df['year'] == 97) & (df.progresa == 0)]\n",
    "treatment =  df[(df['poor'] == 1) & (df['year'] == 97) & (df.progresa == 1)]\n",
    "\n",
    "\n",
    "dataset_variables =  list(temp.columns.values)\n",
    "for i in dataset_variables:\n",
    "        ttest_table.at[dataset_variables.index(i), 'Variable name'] = i\n",
    "        ttest_table.at[dataset_variables.index(i), 'Average value (Treatment villages)'] = treatment[i].mean()\n",
    "        ttest_table.at[dataset_variables.index(i), 'Average value (Control villages)' ] = control[i].mean()\n",
    "        test = stats.ttest_ind(treatment[i][~pd.isnull(treatment[i])], control[i][~pd.isnull(control[i])] )\n",
    "        ttest_table.at[dataset_variables.index(i), 'Difference (Treat - Control)'] =   test.statistic\n",
    "        ttest_table.at[dataset_variables.index(i), 'p-value'] =   test.pvalue\n",
    "        \n",
    "ttest_table\n"
   ]
  },
  {
   "cell_type": "markdown",
   "metadata": {
    "ein.tags": "worksheet-0",
    "slideshow": {
     "slide_type": "-"
    }
   },
   "source": [
    "### 1.3 Interpretation\n",
    "\n",
    "* A: Are there statistically significant differences between treatment and control villages as baseline? \n",
    "\n",
    "Yes, some variables like sex, dist_sec, min_dist, dist_cap etc. have statistically significant differences in the average values at the baseline!\n",
    "\n",
    "* B: Why does it matter if there are differences at baseline?\n",
    "\n",
    "The difference would have us not find casuality between the treatment and control and thus randomization would not serve the purpose.\n",
    "\n",
    "* C: What does this imply about how to measure the impact of the treatment?\n",
    "\n",
    "To measure the impact we would need to find the diff between the outcomes of treatment by using the double diff method."
   ]
  },
  {
   "cell_type": "markdown",
   "metadata": {
    "ein.tags": "worksheet-0",
    "slideshow": {
     "slide_type": "-"
    }
   },
   "source": [
    "*Discuss your results here*"
   ]
  },
  {
   "cell_type": "markdown",
   "metadata": {
    "ein.tags": "worksheet-0",
    "slideshow": {
     "slide_type": "-"
    }
   },
   "source": [
    "### 1.4 Graphical exploration, part 1\n",
    "\n",
    "For each level of household head education, compute the average\n",
    "enrollment rate in 1997. Create a scatterplot that shows this\n",
    "relationship. What do you notice?"
   ]
  },
  {
   "cell_type": "code",
   "execution_count": 4,
   "metadata": {
    "autoscroll": false,
    "ein.tags": "worksheet-0",
    "slideshow": {
     "slide_type": "-"
    }
   },
   "outputs": [
    {
     "data": {
      "image/png": "[encoded data removed]",
      "text/plain": [
       "<Figure size 432x288 with 1 Axes>"
      ]
     },
     "metadata": {},
     "output_type": "display_data"
    }
   ],
   "source": [
    "avg = pd.DataFrame(df[df['year']==97].groupby('hohedu').mean()['sc'])\n",
    "avg.reset_index(level = 0, inplace = True)\n",
    "\n",
    "#ScatterPlot\n",
    "plt.scatter(list(avg['hohedu']),list(avg['sc']))\n",
    "plt.xlabel(\"Level of Household Head Education\")\n",
    "plt.ylabel(\"Average Enrollment Rate in 1997\")\n",
    "plt.show()"
   ]
  },
  {
   "cell_type": "markdown",
   "metadata": {
    "ein.tags": "worksheet-0",
    "slideshow": {
     "slide_type": "-"
    }
   },
   "source": [
    "*Result: Average enrollment rates increase steadily from around 0.76 to 0.94 for household head education years between 0 and 9. When it touches 10, we see a slight drop in average enrollment rates to 0.86 and the from year 11 onwards it starts increasing again steadily. *"
   ]
  },
  {
   "cell_type": "markdown",
   "metadata": {
    "ein.tags": "worksheet-0",
    "slideshow": {
     "slide_type": "-"
    }
   },
   "source": [
    "### 1.5 Graphical exploration, part 2\n",
    "\n",
    "Create a histogram of village enrollment rates **among poor households\n",
    "in treated villages**, before and after treatment.  Specifically, for\n",
    "each village, calculate the average rate of enrollment of poor\n",
    "households in treated villages in 1997, then compute the average rate\n",
    "of enrollment of poor households in treated villages in 1998. Create\n",
    "two separate histograms showing the distribution of these average\n",
    "enrollments rates, one histogram for 1997 and one histogram for\n",
    "1998. On each histogram, draw a vertical line that intersects the\n",
    "x-axis at the average value (across all households). Does there appear\n",
    "to be a difference? Is this difference statistically significant?"
   ]
  },
  {
   "cell_type": "code",
   "execution_count": 5,
   "metadata": {
    "autoscroll": false,
    "ein.tags": "worksheet-0",
    "slideshow": {
     "slide_type": "-"
    }
   },
   "outputs": [
    {
     "data": {
      "image/png": "[encoded data removed]",
      "text/plain": [
       "<Figure size 432x288 with 2 Axes>"
      ]
     },
     "metadata": {},
     "output_type": "display_data"
    },
    {
     "name": "stdout",
     "output_type": "stream",
     "text": [
      "Ttest_indResult(statistic=-2.0157134865156379, pvalue=0.04424870036572115)\n"
     ]
    }
   ],
   "source": [
    "#1997\n",
    "village97 = df[(df['poor'] == 1) & (df['year'] == 97) & (df['progresa'] == 1)].groupby('village').mean()\n",
    "village97.reset_index(level=0, inplace = True)\n",
    "\n",
    "#1997 - histogram\n",
    "fig = plt.figure()\n",
    "ax1 = fig.add_subplot(131)\n",
    "ax1.hist(village97['sc'], color = \"pink\")\n",
    "xlabel(\"Avg Enrollment Rates in 1997\")\n",
    "ylabel(\"No. of Villages\")\n",
    "plt.axvline(village97['sc'].mean())\n",
    "\n",
    "#1998\n",
    "village98 = df[(df['poor'] == 1) & (df['year'] == 98) & (df['progresa'] == 1)].groupby('village').mean()\n",
    "village98.reset_index(level=0, inplace = True)\n",
    "\n",
    "#1998 - Histogram\n",
    "ax2 = fig.add_subplot(133)\n",
    "ax2.hist(village98['sc'], color = 'lime')\n",
    "xlabel(\"Avg Enrollment Rates in 1998\")\n",
    "ylabel(\"No. of Villages\")\n",
    "plt.axvline(village98['sc'].mean())\n",
    "plt.show()\n",
    "\n",
    "#Statistaical Significance using the T-Test\n",
    "test = stats.ttest_ind(village97['sc'][~pd.isnull(village97['sc'])], village98['sc'][~pd.isnull(village98['sc'])])\n",
    "print(test)"
   ]
  },
  {
   "cell_type": "markdown",
   "metadata": {
    "ein.tags": "worksheet-0",
    "slideshow": {
     "slide_type": "-"
    }
   },
   "source": [
    "*The mean of the average enrollment rates of villages in 1997 and 1998 is mostly the same.In order to validate the statistical significance, the t-test gave the Pvalue to be 0.044 indicating the statisical significance by a small value.*"
   ]
  },
  {
   "cell_type": "markdown",
   "metadata": {
    "ein.tags": "worksheet-0",
    "slideshow": {
     "slide_type": "-"
    }
   },
   "source": [
    "## Part 2: Measuring Impact\n",
    "\n",
    "Our goal is to estimate the causal impact of the PROGRESA program on\n",
    "the social and economic outcomes of individuals in Mexico. We will\n",
    "focus on the impact of the program on the poor (those with\n",
    "poor=='pobre'), since only the poor were eligible to receive the\n",
    "PROGRESA assistance.\n",
    "\n",
    "### 2.1 Cross-Sectional Estimator: T-test\n",
    "\n",
    "Begin by estimating the impact of Progresa using \"simple differences.\"\n",
    "Restricting yourself to data from 1998 (after treatment), calculate\n",
    "the average enrollment rate among **poor** households in the Treatment\n",
    "villages and the average enrollment rate among **poor** households in\n",
    "the control villages. Use a t-test to determine if this difference is\n",
    "statistically significant. What do you conclude?"
   ]
  },
  {
   "cell_type": "code",
   "execution_count": 6,
   "metadata": {
    "autoscroll": false,
    "ein.tags": "worksheet-0",
    "slideshow": {
     "slide_type": "-"
    }
   },
   "outputs": [
    {
     "name": "stdout",
     "output_type": "stream",
     "text": [
      "('Treatment average ', 0.8464791213954308)\n",
      "('Control average ', 0.807636956730308)\n",
      "('T Statistic: ', -8.3587205674183735)\n",
      "('P value: ', 6.636344447523235e-17)\n"
     ]
    }
   ],
   "source": [
    "treatment98 = df[(df['poor'] == 1) & (df['year'] == 98) & (df['progresa'] == 1)]\n",
    "control98 = df[(df['poor'] == 1) & (df['year'] == 98) & (df['progresa'] == 0)]\n",
    "\n",
    "treatment98_average = treatment98['sc'].mean()\n",
    "control98_average = control98['sc'].mean()\n",
    "print(\"Treatment average \",treatment98_average)\n",
    "print(\"Control average \",control98_average)\n",
    "\n",
    "#T-Test\n",
    "test = stats.ttest_ind(control98['sc'][~pd.isnull(control98['sc'])], treatment98['sc'][~pd.isnull(treatment98['sc'])])\n",
    "print(\"T Statistic: \",test.statistic)\n",
    "print(\"P value: \", test.pvalue)\n"
   ]
  },
  {
   "cell_type": "markdown",
   "metadata": {
    "ein.tags": "worksheet-0",
    "slideshow": {
     "slide_type": "-"
    }
   },
   "source": [
    "*From the analysis of the enrollment rates in treated and control villages we observe statistically significant differences! *"
   ]
  },
  {
   "cell_type": "markdown",
   "metadata": {
    "ein.tags": "worksheet-0",
    "slideshow": {
     "slide_type": "-"
    }
   },
   "source": [
    "### 2.2 Cross-Sectional Estimator: Regression\n",
    "\n",
    "Estimate the effects of Progresa on enrollment using a regression\n",
    "model, by regressing the 1998 enrollment rates **of the poor** on\n",
    "treatment assignment.  Do not include any additional control\n",
    "variables.\n",
    "Discuss the following:\n",
    "\n",
    "* Based on this model, how much did Progresa increase the likelihood of a child enrolling?\n",
    "* How does your regression estimate compare to your t-test estimate from part 2.1?\n",
    "* Based on this regression model, can we reject the null hypothesis that the treatment effects are zero? \n",
    "* What is the counterfactual assumption underlying this regression?\n",
    "\n",
    "Note: I recommend to use statsmodels.formula.api as this allows to use\n",
    "convenient R-style formulas and provedes nice summaries of the results."
   ]
  },
  {
   "cell_type": "code",
   "execution_count": 10,
   "metadata": {
    "autoscroll": false,
    "ein.tags": "worksheet-0",
    "slideshow": {
     "slide_type": "-"
    }
   },
   "outputs": [
    {
     "name": "stdout",
     "output_type": "stream",
     "text": [
      "                            OLS Regression Results                            \n",
      "==============================================================================\n",
      "Dep. Variable:                     sc   R-squared:                       0.003\n",
      "Model:                            OLS   Adj. R-squared:                  0.003\n",
      "Method:                 Least Squares   F-statistic:                     69.87\n",
      "Date:                Wed, 02 May 2018   Prob (F-statistic):           6.64e-17\n",
      "Time:                        13:58:49   Log-Likelihood:                -11926.\n",
      "No. Observations:               27450   AIC:                         2.386e+04\n",
      "Df Residuals:                   27448   BIC:                         2.387e+04\n",
      "Df Model:                           1                                         \n",
      "Covariance Type:            nonrobust                                         \n",
      "==============================================================================\n",
      "                 coef    std err          t      P>|t|      [0.025      0.975]\n",
      "------------------------------------------------------------------------------\n",
      "Intercept      0.8076      0.004    220.676      0.000       0.800       0.815\n",
      "progresa       0.0388      0.005      8.359      0.000       0.030       0.048\n",
      "==============================================================================\n",
      "Omnibus:                     7638.939   Durbin-Watson:                   1.734\n",
      "Prob(Omnibus):                  0.000   Jarque-Bera (JB):            15767.534\n",
      "Skew:                          -1.767   Prob(JB):                         0.00\n",
      "Kurtosis:                       4.140   Cond. No.                         3.01\n",
      "==============================================================================\n",
      "\n",
      "Warnings:\n",
      "[1] Standard Errors assume that the covariance matrix of the errors is correctly specified.\n"
     ]
    }
   ],
   "source": [
    "import statsmodels.formula.api as smf\n",
    "\n",
    "# 1998 \n",
    "df98 = df[(df['poor'] == 1) & (df['year'] == 98)]\n",
    "lm = smf.ols(data=df98, formula='sc ~ progresa').fit()\n",
    "print(lm.summary())\n"
   ]
  },
  {
   "cell_type": "markdown",
   "metadata": {
    "ein.tags": "worksheet-0",
    "slideshow": {
     "slide_type": "-"
    }
   },
   "source": [
    "*Progresa increases the likelihood of a child enrolling by 0.038 and in the absence of treatment, the average enrollment rates would have been 0.807. However, when the family is subject to treatment, there is an expected increase of 0.038 in the average enrollment rates. \n",
    "Also, we cannot reject the null hypothesis about the treatment effects be zero since the differences are statistically significant as p value < 0.05\n",
    "\n",
    "The counterfactual assumption underlying this regression is that in the absence of treatment, the results in the avg enrollment rates in the treated villages would be equal to the average enrollment rates in the control villages*"
   ]
  },
  {
   "cell_type": "markdown",
   "metadata": {
    "ein.tags": "worksheet-0",
    "slideshow": {
     "slide_type": "-"
    }
   },
   "source": [
    "### 2.3 Multiple Regression\n",
    "\n",
    "Re-run the above regression estimated but this time include a set of\n",
    "relevant control variables. Include, for instance, age, distance to a secondary\n",
    "school, gender, education of household head, welfare index,\n",
    "indigenous, etc.\n",
    "\n",
    "* How do the controls affect the point estimate of treatment effect?\n",
    "* How do the controls affect the standard error on the treatment effect? \n",
    "* How do you interpret the differences (or similarities) between your estimates of 2.2 and 2.3?"
   ]
  },
  {
   "cell_type": "code",
   "execution_count": 11,
   "metadata": {
    "autoscroll": false,
    "ein.tags": "worksheet-0",
    "slideshow": {
     "slide_type": "-"
    }
   },
   "outputs": [
    {
     "data": {
      "text/html": [
       "<table class=\"simpletable\">\n",
       "<caption>OLS Regression Results</caption>\n",
       "<tr>\n",
       "  <th>Dep. Variable:</th>           <td>sc</td>        <th>  R-squared:         </th> <td>   0.272</td> \n",
       "</tr>\n",
       "<tr>\n",
       "  <th>Model:</th>                   <td>OLS</td>       <th>  Adj. R-squared:    </th> <td>   0.272</td> \n",
       "</tr>\n",
       "<tr>\n",
       "  <th>Method:</th>             <td>Least Squares</td>  <th>  F-statistic:       </th> <td>   849.5</td> \n",
       "</tr>\n",
       "<tr>\n",
       "  <th>Date:</th>             <td>Wed, 02 May 2018</td> <th>  Prob (F-statistic):</th>  <td>  0.00</td>  \n",
       "</tr>\n",
       "<tr>\n",
       "  <th>Time:</th>                 <td>13:58:52</td>     <th>  Log-Likelihood:    </th> <td> -7541.1</td> \n",
       "</tr>\n",
       "<tr>\n",
       "  <th>No. Observations:</th>      <td> 27263</td>      <th>  AIC:               </th> <td>1.511e+04</td>\n",
       "</tr>\n",
       "<tr>\n",
       "  <th>Df Residuals:</th>          <td> 27250</td>      <th>  BIC:               </th> <td>1.521e+04</td>\n",
       "</tr>\n",
       "<tr>\n",
       "  <th>Df Model:</th>              <td>    12</td>      <th>                     </th>     <td> </td>    \n",
       "</tr>\n",
       "<tr>\n",
       "  <th>Covariance Type:</th>      <td>nonrobust</td>    <th>                     </th>     <td> </td>    \n",
       "</tr>\n",
       "</table>\n",
       "<table class=\"simpletable\">\n",
       "<tr>\n",
       "        <td></td>           <th>coef</th>     <th>std err</th>      <th>t</th>      <th>P>|t|</th>  <th>[0.025</th>    <th>0.975]</th>  \n",
       "</tr>\n",
       "<tr>\n",
       "  <th>Intercept</th>     <td>    1.4431</td> <td>    0.018</td> <td>   80.855</td> <td> 0.000</td> <td>    1.408</td> <td>    1.478</td>\n",
       "</tr>\n",
       "<tr>\n",
       "  <th>progresa</th>      <td>    0.0337</td> <td>    0.004</td> <td>    8.418</td> <td> 0.000</td> <td>    0.026</td> <td>    0.042</td>\n",
       "</tr>\n",
       "<tr>\n",
       "  <th>sex</th>           <td>    0.0304</td> <td>    0.004</td> <td>    7.847</td> <td> 0.000</td> <td>    0.023</td> <td>    0.038</td>\n",
       "</tr>\n",
       "<tr>\n",
       "  <th>indig</th>         <td>    0.0188</td> <td>    0.005</td> <td>    3.961</td> <td> 0.000</td> <td>    0.009</td> <td>    0.028</td>\n",
       "</tr>\n",
       "<tr>\n",
       "  <th>dist_sec</th>      <td>   -0.0106</td> <td>    0.001</td> <td>  -12.012</td> <td> 0.000</td> <td>   -0.012</td> <td>   -0.009</td>\n",
       "</tr>\n",
       "<tr>\n",
       "  <th>fam_n</th>         <td>    0.0006</td> <td>    0.001</td> <td>    0.727</td> <td> 0.467</td> <td>   -0.001</td> <td>    0.002</td>\n",
       "</tr>\n",
       "<tr>\n",
       "  <th>min_dist</th>      <td>    0.0004</td> <td> 6.34e-05</td> <td>    6.326</td> <td> 0.000</td> <td>    0.000</td> <td>    0.001</td>\n",
       "</tr>\n",
       "<tr>\n",
       "  <th>dist_cap</th>      <td>    0.0002</td> <td>  3.7e-05</td> <td>    5.512</td> <td> 0.000</td> <td>    0.000</td> <td>    0.000</td>\n",
       "</tr>\n",
       "<tr>\n",
       "  <th>hohedu</th>        <td>    0.0079</td> <td>    0.001</td> <td>    9.224</td> <td> 0.000</td> <td>    0.006</td> <td>    0.010</td>\n",
       "</tr>\n",
       "<tr>\n",
       "  <th>hohwag</th>        <td> -7.23e-07</td> <td> 2.81e-06</td> <td>   -0.257</td> <td> 0.797</td> <td>-6.24e-06</td> <td> 4.79e-06</td>\n",
       "</tr>\n",
       "<tr>\n",
       "  <th>welfare_index</th> <td> 2.283e-05</td> <td> 1.82e-05</td> <td>    1.253</td> <td> 0.210</td> <td>-1.29e-05</td> <td> 5.85e-05</td>\n",
       "</tr>\n",
       "<tr>\n",
       "  <th>age</th>           <td>   -0.0657</td> <td>    0.001</td> <td>  -94.750</td> <td> 0.000</td> <td>   -0.067</td> <td>   -0.064</td>\n",
       "</tr>\n",
       "<tr>\n",
       "  <th>hohage</th>        <td>-2.299e-05</td> <td>    0.000</td> <td>   -0.118</td> <td> 0.906</td> <td>   -0.000</td> <td>    0.000</td>\n",
       "</tr>\n",
       "</table>\n",
       "<table class=\"simpletable\">\n",
       "<tr>\n",
       "  <th>Omnibus:</th>       <td>2940.375</td> <th>  Durbin-Watson:     </th> <td>   1.729</td>\n",
       "</tr>\n",
       "<tr>\n",
       "  <th>Prob(Omnibus):</th>  <td> 0.000</td>  <th>  Jarque-Bera (JB):  </th> <td>3992.254</td>\n",
       "</tr>\n",
       "<tr>\n",
       "  <th>Skew:</th>           <td>-0.930</td>  <th>  Prob(JB):          </th> <td>    0.00</td>\n",
       "</tr>\n",
       "<tr>\n",
       "  <th>Kurtosis:</th>       <td> 3.237</td>  <th>  Cond. No.          </th> <td>9.54e+03</td>\n",
       "</tr>\n",
       "</table>"
      ],
      "text/plain": [
       "<class 'statsmodels.iolib.summary.Summary'>\n",
       "\"\"\"\n",
       "                            OLS Regression Results                            \n",
       "==============================================================================\n",
       "Dep. Variable:                     sc   R-squared:                       0.272\n",
       "Model:                            OLS   Adj. R-squared:                  0.272\n",
       "Method:                 Least Squares   F-statistic:                     849.5\n",
       "Date:                Wed, 02 May 2018   Prob (F-statistic):               0.00\n",
       "Time:                        13:58:52   Log-Likelihood:                -7541.1\n",
       "No. Observations:               27263   AIC:                         1.511e+04\n",
       "Df Residuals:                   27250   BIC:                         1.521e+04\n",
       "Df Model:                          12                                         \n",
       "Covariance Type:            nonrobust                                         \n",
       "=================================================================================\n",
       "                    coef    std err          t      P>|t|      [0.025      0.975]\n",
       "---------------------------------------------------------------------------------\n",
       "Intercept         1.4431      0.018     80.855      0.000       1.408       1.478\n",
       "progresa          0.0337      0.004      8.418      0.000       0.026       0.042\n",
       "sex               0.0304      0.004      7.847      0.000       0.023       0.038\n",
       "indig             0.0188      0.005      3.961      0.000       0.009       0.028\n",
       "dist_sec         -0.0106      0.001    -12.012      0.000      -0.012      -0.009\n",
       "fam_n             0.0006      0.001      0.727      0.467      -0.001       0.002\n",
       "min_dist          0.0004   6.34e-05      6.326      0.000       0.000       0.001\n",
       "dist_cap          0.0002    3.7e-05      5.512      0.000       0.000       0.000\n",
       "hohedu            0.0079      0.001      9.224      0.000       0.006       0.010\n",
       "hohwag         -7.23e-07   2.81e-06     -0.257      0.797   -6.24e-06    4.79e-06\n",
       "welfare_index  2.283e-05   1.82e-05      1.253      0.210   -1.29e-05    5.85e-05\n",
       "age              -0.0657      0.001    -94.750      0.000      -0.067      -0.064\n",
       "hohage        -2.299e-05      0.000     -0.118      0.906      -0.000       0.000\n",
       "==============================================================================\n",
       "Omnibus:                     2940.375   Durbin-Watson:                   1.729\n",
       "Prob(Omnibus):                  0.000   Jarque-Bera (JB):             3992.254\n",
       "Skew:                          -0.930   Prob(JB):                         0.00\n",
       "Kurtosis:                       3.237   Cond. No.                     9.54e+03\n",
       "==============================================================================\n",
       "\n",
       "Warnings:\n",
       "[1] Standard Errors assume that the covariance matrix of the errors is correctly specified.\n",
       "[2] The condition number is large, 9.54e+03. This might indicate that there are\n",
       "strong multicollinearity or other numerical problems.\n",
       "\"\"\""
      ]
     },
     "execution_count": 11,
     "metadata": {},
     "output_type": "execute_result"
    }
   ],
   "source": [
    "multiple_lm = smf.ols(formula='sc ~ progresa + sex + indig + dist_sec + fam_n + min_dist + dist_cap + hohedu + hohwag + welfare_index + age + hohage', data=df98).fit()\n",
    "multiple_lm.summary()"
   ]
  },
  {
   "cell_type": "markdown",
   "metadata": {
    "ein.tags": "worksheet-0",
    "slideshow": {
     "slide_type": "-"
    }
   },
   "source": [
    "\n",
    "Introducing the control factors has changed the point estimate for the treatment effect progress and it has decreased from 0.0388 in the single linear model to 0.0337 in the multiple regression model. \n",
    "\n",
    "The introduction of the control variables has improved the standard error on the treatment effect from 0.005 to 0.004.\n",
    "\n",
    "The interpretation of thr estimate of the intercept value is 1.4431 which is greater than 1 as compared to 0.8076 from the model in 2.2. However, the most prominent factor for the school enrollment is the treatment effect of the progresa fund given to families which has an estimate of 0.0337.\n",
    "\n",
    "------"
   ]
  },
  {
   "cell_type": "markdown",
   "metadata": {
    "ein.tags": "worksheet-0",
    "slideshow": {
     "slide_type": "-"
    }
   },
   "source": [
    "### 2.4 Difference-in-Difference, version 1 (tabular)\n",
    "\n",
    "Thus far, we have computed the effects of Progresa by estimating the\n",
    "difference in 1998 enrollment rates across villages. An alternative\n",
    "approach would be to compute the treatment effect using a\n",
    "difference-in-differences framework.\n",
    "\n",
    "Begin by estimating the average treatment effects of the program for poor households using data from 1997 and 1998. Specifically, calculate:\n",
    "\n",
    "a) the difference (between 1997 and 1998) in enrollment rates among poor households in treated villages\n",
    "\n",
    "b) the difference (between 1997 and 1998) in enrollment rates among poor households in control villages.\n",
    "\n",
    "c) The difference between these two differences is your estimate.\n",
    "\n",
    "* What is your estimate of the impact, and how does it compare to your earlier (simple difference) results?\n",
    "\n",
    "* What is the counterfactual assumption underlying this estimate? \n"
   ]
  },
  {
   "cell_type": "code",
   "execution_count": 20,
   "metadata": {
    "autoscroll": false,
    "ein.tags": "worksheet-0",
    "slideshow": {
     "slide_type": "-"
    }
   },
   "outputs": [
    {
     "name": "stdout",
     "output_type": "stream",
     "text": [
      "The diff in diff value is:  0.0313312803193\n"
     ]
    },
    {
     "data": {
      "text/html": [
       "<div>\n",
       "<style scoped>\n",
       "    .dataframe tbody tr th:only-of-type {\n",
       "        vertical-align: middle;\n",
       "    }\n",
       "\n",
       "    .dataframe tbody tr th {\n",
       "        vertical-align: top;\n",
       "    }\n",
       "\n",
       "    .dataframe thead th {\n",
       "        text-align: right;\n",
       "    }\n",
       "</style>\n",
       "<table border=\"1\" class=\"dataframe\">\n",
       "  <thead>\n",
       "    <tr style=\"text-align: right;\">\n",
       "      <th></th>\n",
       "      <th>Control</th>\n",
       "      <th>Treatment</th>\n",
       "    </tr>\n",
       "  </thead>\n",
       "  <tbody>\n",
       "    <tr>\n",
       "      <th>Before Treatment</th>\n",
       "      <td>0.815186</td>\n",
       "      <td>0.822697</td>\n",
       "    </tr>\n",
       "    <tr>\n",
       "      <th>After Treatment</th>\n",
       "      <td>0.807637</td>\n",
       "      <td>0.846479</td>\n",
       "    </tr>\n",
       "  </tbody>\n",
       "</table>\n",
       "</div>"
      ],
      "text/plain": [
       "                   Control Treatment\n",
       "Before Treatment  0.815186  0.822697\n",
       "After Treatment   0.807637  0.846479"
      ]
     },
     "execution_count": 20,
     "metadata": {},
     "output_type": "execute_result"
    }
   ],
   "source": [
    "df97 = df[(df['poor'] == 1) & (df['year'] == 97)]\n",
    "df98 = df[(df['poor'] == 1) & (df['year'] == 98)]\n",
    "\n",
    "index = ['Before Treatment', 'After Treatment']\n",
    "cols = ['Control', 'Treatment']\n",
    "double_diff = pd.DataFrame(index = index, columns = cols)\n",
    "\n",
    "treatment98 = df98['sc'][df98.progresa == 1].mean() \n",
    "treatment97 = df97['sc'][df97.progresa == 1].mean()\n",
    "control98 =  df98['sc'][df98.progresa == 0].mean()\n",
    "control97 =  df97['sc'][df97.progresa == 0].mean()\n",
    "\n",
    "diff_in_diff = (treatment98 - treatment97) - (control98 - control97)\n",
    "print \"The diff in diff value is: \", diff_in_diff\n",
    "\n",
    "double_diff.loc[\"Before Treatment\",\"Control\"] = control97\n",
    "double_diff.loc[\"After Treatment\",\"Control\"] = control98\n",
    "double_diff.loc[\"Before Treatment\",\"Treatment\"] = treatment97\n",
    "double_diff.loc[\"After Treatment\",\"Treatment\"] = treatment98\n",
    "\n",
    "double_diff\n"
   ]
  },
  {
   "cell_type": "markdown",
   "metadata": {
    "ein.tags": "worksheet-0",
    "slideshow": {
     "slide_type": "-"
    }
   },
   "source": [
    "*Difference-in-Difference method gives us a value of 0.0313 which is lower then the estimate derived from the earlier simple difference methods that gave an estimate of 0.0388*"
   ]
  },
  {
   "cell_type": "markdown",
   "metadata": {
    "ein.tags": "worksheet-0",
    "slideshow": {
     "slide_type": "-"
    }
   },
   "source": [
    "### 2.5 Difference-in-Difference, version 2 (regression)\n",
    "\n",
    "Now use a regression specification to estimate the average treatment\n",
    "effects of the program in a difference-in-differences\n",
    "framework. Include at least 5 control variables.\n",
    "\n",
    "* What is your estimate of the impact of Progresa? Be very specific in\n",
    "  interpreting your coefficients and standard errors, and make sure to\n",
    "  specify exactly what units you are measuring and estimating.\n",
    "\n",
    "* How do these estimates of the treatment effect compare to the\n",
    "  estimates based on the simple difference?\n",
    "\n",
    "* How do these estimates compare to the difference-in-difference\n",
    "  estimates from 2.4 above? What accounts for these differences?\n",
    "\n",
    "* What is the counterfactual assumption underlying this regression? "
   ]
  },
  {
   "cell_type": "code",
   "execution_count": 29,
   "metadata": {
    "autoscroll": false,
    "ein.tags": "worksheet-0",
    "slideshow": {
     "slide_type": "-"
    }
   },
   "outputs": [
    {
     "data": {
      "text/html": [
       "<table class=\"simpletable\">\n",
       "<caption>OLS Regression Results</caption>\n",
       "<tr>\n",
       "  <th>Dep. Variable:</th>           <td>sc</td>        <th>  R-squared:         </th> <td>   0.282</td> \n",
       "</tr>\n",
       "<tr>\n",
       "  <th>Model:</th>                   <td>OLS</td>       <th>  Adj. R-squared:    </th> <td>   0.282</td> \n",
       "</tr>\n",
       "<tr>\n",
       "  <th>Method:</th>             <td>Least Squares</td>  <th>  F-statistic:       </th> <td>   2296.</td> \n",
       "</tr>\n",
       "<tr>\n",
       "  <th>Date:</th>             <td>Wed, 02 May 2018</td> <th>  Prob (F-statistic):</th>  <td>  0.00</td>  \n",
       "</tr>\n",
       "<tr>\n",
       "  <th>Time:</th>                 <td>14:49:58</td>     <th>  Log-Likelihood:    </th> <td> -16585.</td> \n",
       "</tr>\n",
       "<tr>\n",
       "  <th>No. Observations:</th>      <td> 58344</td>      <th>  AIC:               </th> <td>3.319e+04</td>\n",
       "</tr>\n",
       "<tr>\n",
       "  <th>Df Residuals:</th>          <td> 58333</td>      <th>  BIC:               </th> <td>3.329e+04</td>\n",
       "</tr>\n",
       "<tr>\n",
       "  <th>Df Model:</th>              <td>    10</td>      <th>                     </th>     <td> </td>    \n",
       "</tr>\n",
       "<tr>\n",
       "  <th>Covariance Type:</th>      <td>nonrobust</td>    <th>                     </th>     <td> </td>    \n",
       "</tr>\n",
       "</table>\n",
       "<table class=\"simpletable\">\n",
       "<tr>\n",
       "        <td></td>           <th>coef</th>     <th>std err</th>      <th>t</th>      <th>P>|t|</th>  <th>[0.025</th>    <th>0.975]</th>  \n",
       "</tr>\n",
       "<tr>\n",
       "  <th>Intercept</th>     <td>    1.4215</td> <td>    0.009</td> <td>  158.822</td> <td> 0.000</td> <td>    1.404</td> <td>    1.439</td>\n",
       "</tr>\n",
       "<tr>\n",
       "  <th>progresa</th>      <td>    0.0031</td> <td>    0.004</td> <td>    0.817</td> <td> 0.414</td> <td>   -0.004</td> <td>    0.010</td>\n",
       "</tr>\n",
       "<tr>\n",
       "  <th>post</th>          <td>    0.0274</td> <td>    0.004</td> <td>    6.321</td> <td> 0.000</td> <td>    0.019</td> <td>    0.036</td>\n",
       "</tr>\n",
       "<tr>\n",
       "  <th>progresa:post</th> <td>    0.0313</td> <td>    0.005</td> <td>    5.690</td> <td> 0.000</td> <td>    0.020</td> <td>    0.042</td>\n",
       "</tr>\n",
       "<tr>\n",
       "  <th>sex</th>           <td>    0.0331</td> <td>    0.003</td> <td>   12.429</td> <td> 0.000</td> <td>    0.028</td> <td>    0.038</td>\n",
       "</tr>\n",
       "<tr>\n",
       "  <th>dist_sec</th>      <td>   -0.0093</td> <td>    0.001</td> <td>  -15.020</td> <td> 0.000</td> <td>   -0.010</td> <td>   -0.008</td>\n",
       "</tr>\n",
       "<tr>\n",
       "  <th>min_dist</th>      <td>    0.0004</td> <td> 4.37e-05</td> <td>    8.550</td> <td> 0.000</td> <td>    0.000</td> <td>    0.000</td>\n",
       "</tr>\n",
       "<tr>\n",
       "  <th>dist_cap</th>      <td>    0.0003</td> <td> 2.36e-05</td> <td>   10.821</td> <td> 0.000</td> <td>    0.000</td> <td>    0.000</td>\n",
       "</tr>\n",
       "<tr>\n",
       "  <th>hohedu</th>        <td>    0.0072</td> <td>    0.001</td> <td>   12.322</td> <td> 0.000</td> <td>    0.006</td> <td>    0.008</td>\n",
       "</tr>\n",
       "<tr>\n",
       "  <th>age</th>           <td>   -0.0657</td> <td>    0.000</td> <td> -143.888</td> <td> 0.000</td> <td>   -0.067</td> <td>   -0.065</td>\n",
       "</tr>\n",
       "<tr>\n",
       "  <th>hohage</th>        <td>    0.0002</td> <td>    0.000</td> <td>    1.838</td> <td> 0.066</td> <td>-1.58e-05</td> <td>    0.000</td>\n",
       "</tr>\n",
       "</table>\n",
       "<table class=\"simpletable\">\n",
       "<tr>\n",
       "  <th>Omnibus:</th>       <td>5488.522</td> <th>  Durbin-Watson:     </th> <td>   1.491</td>\n",
       "</tr>\n",
       "<tr>\n",
       "  <th>Prob(Omnibus):</th>  <td> 0.000</td>  <th>  Jarque-Bera (JB):  </th> <td>7205.368</td>\n",
       "</tr>\n",
       "<tr>\n",
       "  <th>Skew:</th>           <td>-0.859</td>  <th>  Prob(JB):          </th> <td>    0.00</td>\n",
       "</tr>\n",
       "<tr>\n",
       "  <th>Kurtosis:</th>       <td> 3.110</td>  <th>  Cond. No.          </th> <td>1.45e+03</td>\n",
       "</tr>\n",
       "</table>"
      ],
      "text/plain": [
       "<class 'statsmodels.iolib.summary.Summary'>\n",
       "\"\"\"\n",
       "                            OLS Regression Results                            \n",
       "==============================================================================\n",
       "Dep. Variable:                     sc   R-squared:                       0.282\n",
       "Model:                            OLS   Adj. R-squared:                  0.282\n",
       "Method:                 Least Squares   F-statistic:                     2296.\n",
       "Date:                Wed, 02 May 2018   Prob (F-statistic):               0.00\n",
       "Time:                        14:49:58   Log-Likelihood:                -16585.\n",
       "No. Observations:               58344   AIC:                         3.319e+04\n",
       "Df Residuals:                   58333   BIC:                         3.329e+04\n",
       "Df Model:                          10                                         \n",
       "Covariance Type:            nonrobust                                         \n",
       "=================================================================================\n",
       "                    coef    std err          t      P>|t|      [0.025      0.975]\n",
       "---------------------------------------------------------------------------------\n",
       "Intercept         1.4215      0.009    158.822      0.000       1.404       1.439\n",
       "progresa          0.0031      0.004      0.817      0.414      -0.004       0.010\n",
       "post              0.0274      0.004      6.321      0.000       0.019       0.036\n",
       "progresa:post     0.0313      0.005      5.690      0.000       0.020       0.042\n",
       "sex               0.0331      0.003     12.429      0.000       0.028       0.038\n",
       "dist_sec         -0.0093      0.001    -15.020      0.000      -0.010      -0.008\n",
       "min_dist          0.0004   4.37e-05      8.550      0.000       0.000       0.000\n",
       "dist_cap          0.0003   2.36e-05     10.821      0.000       0.000       0.000\n",
       "hohedu            0.0072      0.001     12.322      0.000       0.006       0.008\n",
       "age              -0.0657      0.000   -143.888      0.000      -0.067      -0.065\n",
       "hohage            0.0002      0.000      1.838      0.066   -1.58e-05       0.000\n",
       "==============================================================================\n",
       "Omnibus:                     5488.522   Durbin-Watson:                   1.491\n",
       "Prob(Omnibus):                  0.000   Jarque-Bera (JB):             7205.368\n",
       "Skew:                          -0.859   Prob(JB):                         0.00\n",
       "Kurtosis:                       3.110   Cond. No.                     1.45e+03\n",
       "==============================================================================\n",
       "\n",
       "Warnings:\n",
       "[1] Standard Errors assume that the covariance matrix of the errors is correctly specified.\n",
       "[2] The condition number is large, 1.45e+03. This might indicate that there are\n",
       "strong multicollinearity or other numerical problems.\n",
       "\"\"\""
      ]
     },
     "execution_count": 29,
     "metadata": {},
     "output_type": "execute_result"
    }
   ],
   "source": [
    "df.loc[df.progresa == '0', 'progresa'] = 0\n",
    "df.loc[df.progresa == 'basal', 'progresa'] = 1\n",
    "df.loc[df['poor'] == 'pobre', 'poor'] = 1\n",
    "df.loc[df['poor'] ==  'no pobre', 'poor'] = 0\n",
    "df.loc[df.year == 97, 'post'] = 0\n",
    "df.loc[df.year == 98, 'post'] = 1\n",
    "pd.to_numeric(df['progresa'])\n",
    "pd.to_numeric(df['poor'])\n",
    "progresa_poor = df[df['poor'] == 1]\n",
    "dd_lm = smf.ols(formula = 'sc ~ progresa + post + progresa:post + sex + dist_sec  + min_dist + dist_cap + hohedu + age + hohage', data=progresa_poor).fit()\n",
    "dd_lm.summary()"
   ]
  },
  {
   "cell_type": "markdown",
   "metadata": {
    "ein.tags": "worksheet-0",
    "slideshow": {
     "slide_type": "-"
    }
   },
   "source": [
    "*\n",
    "Interpretting \"progresa:post\" interaction coefficient: For families in year 1998 being subjected to the progresa subsidy program, the average enrollment rates would be 0.0313 higher.\n",
    "\n",
    "The impact estimation of the difference in difference model is lower than that of simple difference. \n",
    "\n",
    "The  impact is similar to that of 2.4 except that we have introduced terms of the time consideration and its interaction with the progresa treatment. \n",
    "\n",
    "The counterfactual assumption is the trends in treatment group and control group could have been the same in the absence of treatment. \n",
    "*"
   ]
  },
  {
   "cell_type": "markdown",
   "metadata": {
    "ein.tags": "worksheet-0",
    "slideshow": {
     "slide_type": "-"
    }
   },
   "source": [
    "### 2.6 Summary\n",
    "\n",
    "* Based on all the analysis you have undertaken to date, do you\n",
    "  believe that Progresa had a causal impact on the enrollment rates of\n",
    "  poor households in Mexico?  Explain by referring to the methods and\n",
    "  results above."
   ]
  },
  {
   "cell_type": "markdown",
   "metadata": {
    "ein.tags": "worksheet-0",
    "slideshow": {
     "slide_type": "-"
    }
   },
   "source": [
    "*Yes, the progresa program did have causal impact on the enrollment rates of the poor households in Mexico in 1998.\n",
    "Note that the magnitude of the impact is not veryy high as growth in enrollment rates occurs over time while scale of the program grows and more households are treated with the subsidy.*"
   ]
  },
  {
   "cell_type": "code",
   "execution_count": null,
   "metadata": {},
   "outputs": [],
   "source": []
  }
 ],
 "metadata": {
  "kernelspec": {
   "display_name": "Python 2",
   "language": "python",
   "name": "python2"
  },
  "language_info": {
   "codemirror_mode": {
    "name": "ipython",
    "version": 2
   },
   "file_extension": ".py",
   "mimetype": "text/x-python",
   "name": "python",
   "nbconvert_exporter": "python",
   "pygments_lexer": "ipython2",
   "version": "2.7.12"
  },
  "name": "ps03_progresa.ipynb"
 },
 "nbformat": 4,
 "nbformat_minor": 2
}
