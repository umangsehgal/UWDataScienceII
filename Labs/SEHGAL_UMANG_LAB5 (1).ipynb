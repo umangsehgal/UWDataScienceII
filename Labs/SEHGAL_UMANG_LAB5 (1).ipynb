{
 "cells": [
  {
   "cell_type": "code",
   "execution_count": 12,
   "metadata": {},
   "outputs": [],
   "source": [
    "import numpy as np\n",
    "import pandas as pd\n",
    "from sklearn.model_selection import train_test_split\n",
    "from sklearn.linear_model import LogisticRegression\n",
    "import matplotlib.pyplot as plt\n",
    "%matplotlib inline"
   ]
  },
  {
   "cell_type": "code",
   "execution_count": 5,
   "metadata": {},
   "outputs": [],
   "source": [
    "#read the data\n",
    "data = pd.read_csv('ionosphere.csv')"
   ]
  },
  {
   "cell_type": "markdown",
   "metadata": {},
   "source": [
    "#### Some information on the dataset\n",
    "This radar data was collected by a system in Goose Bay, Labrador. This system consists of a phased array of 16 high-frequency antennas with a total transmitted power on the order of 6.4 kilowatts. See the [paper](https://pdfs.semanticscholar.org/e0d2/de05caacdfa8073b2b4f77c5e72cb2449b81.pdf) for more details. \n",
    "\n",
    "The targets were free electrons in the ionosphere.\"Good\" radar returns are those showing evidence of some type of structure in the ionosphere. \"Bad\" returns are those that do not; their signals pass through the ionosphere. "
   ]
  },
  {
   "cell_type": "markdown",
   "metadata": {},
   "source": [
    "In order to check the effect of regularization on test data, split the data into train and test using sklearn."
   ]
  },
  {
   "cell_type": "code",
   "execution_count": 18,
   "metadata": {},
   "outputs": [],
   "source": [
    "#split the data into train and test\n",
    "X = data.loc[:, data.columns != 'target']\n",
    "y = data.loc[:, data.columns == 'target']\n",
    "X_train, X_test, y_train, y_test = train_test_split(X, y, test_size=0.2, random_state=42)"
   ]
  },
  {
   "cell_type": "markdown",
   "metadata": {},
   "source": [
    "Create a model using Logistic Regression from sklearn. "
   ]
  },
  {
   "cell_type": "code",
   "execution_count": 34,
   "metadata": {},
   "outputs": [],
   "source": [
    "logisticRegrRidge = LogisticRegression(penalty=\"l2\", C=1)\n",
    "logisticRegrLasso = LogisticRegression(penalty=\"l1\", C=1)"
   ]
  },
  {
   "cell_type": "markdown",
   "metadata": {},
   "source": [
    "    1. Perform a ridge regression using sklearn. Test for the accuracy on the test dataset"
   ]
  },
  {
   "cell_type": "code",
   "execution_count": 48,
   "metadata": {},
   "outputs": [
    {
     "name": "stdout",
     "output_type": "stream",
     "text": [
      "0.830985915493\n"
     ]
    }
   ],
   "source": [
    "#perform ridge regression and test accuracy\n",
    "logisticRegrRidge.fit(X_train, y_train)\n",
    "predictions = logisticRegrRidge.predict(X_test)\n",
    "score = logisticRegrRidge.score(X_test, y_test)\n",
    "print(score)"
   ]
  },
  {
   "cell_type": "markdown",
   "metadata": {},
   "source": [
    "    2. Perform lasso regression using sklearn. Test for the accuracy on the test dataset"
   ]
  },
  {
   "cell_type": "code",
   "execution_count": 49,
   "metadata": {},
   "outputs": [
    {
     "name": "stdout",
     "output_type": "stream",
     "text": [
      "0.859154929577\n"
     ]
    }
   ],
   "source": [
    "#perform lasso regression and test accuracy\n",
    "logisticRegrLasso.fit(X_train, y_train)\n",
    "predictions = logisticRegrLasso.predict(X_test)\n",
    "score = logisticRegrLasso.score(X_test, y_test)\n",
    "print(score)"
   ]
  },
  {
   "cell_type": "markdown",
   "metadata": {},
   "source": [
    "    3. Tune the parameters of C(1/lambda) and appropriate choice of regularization. Default values of C and regularization is 1.0 and 'l2' - ridge respectively. Record the results (accuracy, coefficients and lambdas) in a dataframe."
   ]
  },
  {
   "cell_type": "code",
   "execution_count": 57,
   "metadata": {},
   "outputs": [
    {
     "name": "stdout",
     "output_type": "stream",
     "text": [
      "0.845070422535\n"
     ]
    }
   ],
   "source": [
    "logisticRegrSample = LogisticRegression(penalty=\"l1\", C=1.2)\n",
    "logisticRegrSample.fit(X_train, y_train)\n",
    "predictions = logisticRegrSample.predict(X_test)\n",
    "print(logisticRegrSample.score(X_test, y_test))"
   ]
  },
  {
   "cell_type": "code",
   "execution_count": 59,
   "metadata": {},
   "outputs": [
    {
     "name": "stdout",
     "output_type": "stream",
     "text": [
      "0.830985915493\n"
     ]
    }
   ],
   "source": [
    "logisticRegrSample1 = LogisticRegression(penalty=\"l2\", C=2.0)\n",
    "logisticRegrSample1.fit(X_train, y_train)\n",
    "predictions = logisticRegrSample1.predict(X_test)\n",
    "print(logisticRegrSample1.score(X_test, y_test))\n"
   ]
  },
  {
   "cell_type": "code",
   "execution_count": 96,
   "metadata": {},
   "outputs": [
    {
     "data": {
      "text/html": [
       "<div>\n",
       "<style scoped>\n",
       "    .dataframe tbody tr th:only-of-type {\n",
       "        vertical-align: middle;\n",
       "    }\n",
       "\n",
       "    .dataframe tbody tr th {\n",
       "        vertical-align: top;\n",
       "    }\n",
       "\n",
       "    .dataframe thead th {\n",
       "        text-align: right;\n",
       "    }\n",
       "</style>\n",
       "<table border=\"1\" class=\"dataframe\">\n",
       "  <thead>\n",
       "    <tr style=\"text-align: right;\">\n",
       "      <th></th>\n",
       "      <th>Accuracy</th>\n",
       "      <th>C</th>\n",
       "      <th>Regularization</th>\n",
       "    </tr>\n",
       "  </thead>\n",
       "  <tbody>\n",
       "    <tr>\n",
       "      <th>0</th>\n",
       "      <td>0.859</td>\n",
       "      <td>1.0</td>\n",
       "      <td>l1</td>\n",
       "    </tr>\n",
       "    <tr>\n",
       "      <th>1</th>\n",
       "      <td>0.830</td>\n",
       "      <td>1.0</td>\n",
       "      <td>l2</td>\n",
       "    </tr>\n",
       "    <tr>\n",
       "      <th>2</th>\n",
       "      <td>0.845</td>\n",
       "      <td>1.2</td>\n",
       "      <td>l1</td>\n",
       "    </tr>\n",
       "    <tr>\n",
       "      <th>3</th>\n",
       "      <td>0.830</td>\n",
       "      <td>2.0</td>\n",
       "      <td>l2</td>\n",
       "    </tr>\n",
       "  </tbody>\n",
       "</table>\n",
       "</div>"
      ],
      "text/plain": [
       "   Accuracy    C Regularization\n",
       "0     0.859  1.0             l1\n",
       "1     0.830  1.0             l2\n",
       "2     0.845  1.2             l1\n",
       "3     0.830  2.0             l2"
      ]
     },
     "execution_count": 96,
     "metadata": {},
     "output_type": "execute_result"
    }
   ],
   "source": [
    "#perform tuning and record the results\n",
    "results = pd.DataFrame(columns = ['C','Regularization','Accuracy'])\n",
    "results1 = pd.DataFrame({'C': [1.0],'Regularization': ['l1'],'Accuracy': [0.859]})\n",
    "results2 = pd.DataFrame({'C': [1.0],'Regularization': ['l2'],'Accuracy': [0.830]})\n",
    "results3 = pd.DataFrame({'C': [1.2],'Regularization': ['l1'],'Accuracy': [0.845]})\n",
    "results4 = pd.DataFrame({'C': [2.0],'Regularization': ['l2'],'Accuracy': [0.830]})\n",
    "final = results.append(results1,ignore_index=True).append(results2,ignore_index=True).append(results3,ignore_index=True).append(results4,ignore_index=True)\n",
    "final"
   ]
  },
  {
   "cell_type": "markdown",
   "metadata": {},
   "source": [
    "    4. Plot the coefficients against lambdas and accuracy against lambdas for both lasso and ridge regularization."
   ]
  },
  {
   "cell_type": "code",
   "execution_count": null,
   "metadata": {},
   "outputs": [],
   "source": [
    "#plot coefficients against lambdas and accuracy against lambdas"
   ]
  },
  {
   "cell_type": "code",
   "execution_count": 97,
   "metadata": {},
   "outputs": [
    {
     "data": {
      "text/plain": [
       "<matplotlib.axes._subplots.AxesSubplot at 0x7f391ed7a910>"
      ]
     },
     "execution_count": 97,
     "metadata": {},
     "output_type": "execute_result"
    },
    {
     "data": {
      "image/png": "[encoded data removed]",
      "text/plain": [
       "<Figure size 432x288 with 1 Axes>"
      ]
     },
     "metadata": {},
     "output_type": "display_data"
    }
   ],
   "source": [
    "final.plot(x = 'Accuracy', y = 'C')"
   ]
  },
  {
   "cell_type": "code",
   "execution_count": 98,
   "metadata": {},
   "outputs": [
    {
     "data": {
      "text/plain": [
       "<matplotlib.axes._subplots.AxesSubplot at 0x7f391ed1b090>"
      ]
     },
     "execution_count": 98,
     "metadata": {},
     "output_type": "execute_result"
    },
    {
     "data": {
      "image/png": "[encoded data removed]",
      "text/plain": [
       "<Figure size 432x288 with 1 Axes>"
      ]
     },
     "metadata": {},
     "output_type": "display_data"
    }
   ],
   "source": [
    "final.plot(x = 'Regularization', y = 'C')"
   ]
  },
  {
   "cell_type": "code",
   "execution_count": null,
   "metadata": {},
   "outputs": [],
   "source": []
  }
 ],
 "metadata": {
  "kernelspec": {
   "display_name": "Python 2",
   "language": "python",
   "name": "python2"
  },
  "language_info": {
   "codemirror_mode": {
    "name": "ipython",
    "version": 2
   },
   "file_extension": ".py",
   "mimetype": "text/x-python",
   "name": "python",
   "nbconvert_exporter": "python",
   "pygments_lexer": "ipython2",
   "version": "2.7.12"
  }
 },
 "nbformat": 4,
 "nbformat_minor": 2
}
