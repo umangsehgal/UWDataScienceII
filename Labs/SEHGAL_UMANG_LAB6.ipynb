{
 "cells": [
  {
   "cell_type": "code",
   "execution_count": 66,
   "metadata": {},
   "outputs": [],
   "source": [
    "import pandas as pd\n",
    "import numpy as np"
   ]
  },
  {
   "cell_type": "markdown",
   "metadata": {},
   "source": [
    "### Exploring Data"
   ]
  },
  {
   "cell_type": "code",
   "execution_count": 70,
   "metadata": {},
   "outputs": [],
   "source": [
    "df = pd.read_csv(\"/home/umang-uw/Downloads/house-votes-84.csv.bz2\", header = None)\n",
    "df.columns = [\"Membership\",\"Bill1\", \"Bill2\", \"Bill3\", \"Bill4\",\"Bill5\", \"Bill6\", \"Bill7\", \"Bill8\",\"Bill9\", \"Bill10\", \"Bill11\", \"Bill12\",\"Bill13\", \"Bill14\", \"Bill15\",\"Bill16\"]"
   ]
  },
  {
   "cell_type": "code",
   "execution_count": 71,
   "metadata": {},
   "outputs": [
    {
     "data": {
      "text/html": [
       "<div>\n",
       "<style scoped>\n",
       "    .dataframe tbody tr th:only-of-type {\n",
       "        vertical-align: middle;\n",
       "    }\n",
       "\n",
       "    .dataframe tbody tr th {\n",
       "        vertical-align: top;\n",
       "    }\n",
       "\n",
       "    .dataframe thead th {\n",
       "        text-align: right;\n",
       "    }\n",
       "</style>\n",
       "<table border=\"1\" class=\"dataframe\">\n",
       "  <thead>\n",
       "    <tr style=\"text-align: right;\">\n",
       "      <th></th>\n",
       "      <th>Bill1</th>\n",
       "      <th>Bill2</th>\n",
       "      <th>Bill3</th>\n",
       "      <th>Bill4</th>\n",
       "      <th>Bill5</th>\n",
       "      <th>Bill6</th>\n",
       "      <th>Bill7</th>\n",
       "      <th>Bill8</th>\n",
       "      <th>Bill9</th>\n",
       "      <th>Bill10</th>\n",
       "      <th>Bill11</th>\n",
       "      <th>Bill12</th>\n",
       "      <th>Bill13</th>\n",
       "      <th>Bill14</th>\n",
       "      <th>Bill15</th>\n",
       "      <th>Bill16</th>\n",
       "    </tr>\n",
       "  </thead>\n",
       "  <tbody>\n",
       "    <tr>\n",
       "      <th>n</th>\n",
       "      <td>236.0</td>\n",
       "      <td>192.0</td>\n",
       "      <td>171.0</td>\n",
       "      <td>247.0</td>\n",
       "      <td>208.0</td>\n",
       "      <td>152.0</td>\n",
       "      <td>182.0</td>\n",
       "      <td>178.0</td>\n",
       "      <td>206.0</td>\n",
       "      <td>212.0</td>\n",
       "      <td>264.0</td>\n",
       "      <td>233.0</td>\n",
       "      <td>201.0</td>\n",
       "      <td>170.0</td>\n",
       "      <td>233.0</td>\n",
       "      <td>62.0</td>\n",
       "    </tr>\n",
       "    <tr>\n",
       "      <th>y</th>\n",
       "      <td>187.0</td>\n",
       "      <td>195.0</td>\n",
       "      <td>253.0</td>\n",
       "      <td>177.0</td>\n",
       "      <td>212.0</td>\n",
       "      <td>272.0</td>\n",
       "      <td>239.0</td>\n",
       "      <td>242.0</td>\n",
       "      <td>207.0</td>\n",
       "      <td>216.0</td>\n",
       "      <td>150.0</td>\n",
       "      <td>171.0</td>\n",
       "      <td>209.0</td>\n",
       "      <td>248.0</td>\n",
       "      <td>174.0</td>\n",
       "      <td>269.0</td>\n",
       "    </tr>\n",
       "    <tr>\n",
       "      <th>?</th>\n",
       "      <td>NaN</td>\n",
       "      <td>NaN</td>\n",
       "      <td>NaN</td>\n",
       "      <td>NaN</td>\n",
       "      <td>NaN</td>\n",
       "      <td>NaN</td>\n",
       "      <td>NaN</td>\n",
       "      <td>NaN</td>\n",
       "      <td>NaN</td>\n",
       "      <td>NaN</td>\n",
       "      <td>NaN</td>\n",
       "      <td>NaN</td>\n",
       "      <td>NaN</td>\n",
       "      <td>NaN</td>\n",
       "      <td>NaN</td>\n",
       "      <td>NaN</td>\n",
       "    </tr>\n",
       "  </tbody>\n",
       "</table>\n",
       "</div>"
      ],
      "text/plain": [
       "   Bill1  Bill2  Bill3  Bill4  Bill5  Bill6  Bill7  Bill8  Bill9  Bill10  \\\n",
       "n  236.0  192.0  171.0  247.0  208.0  152.0  182.0  178.0  206.0   212.0   \n",
       "y  187.0  195.0  253.0  177.0  212.0  272.0  239.0  242.0  207.0   216.0   \n",
       "?    NaN    NaN    NaN    NaN    NaN    NaN    NaN    NaN    NaN     NaN   \n",
       "\n",
       "   Bill11  Bill12  Bill13  Bill14  Bill15  Bill16  \n",
       "n   264.0   233.0   201.0   170.0   233.0    62.0  \n",
       "y   150.0   171.0   209.0   248.0   174.0   269.0  \n",
       "?     NaN     NaN     NaN     NaN     NaN     NaN  "
      ]
     },
     "execution_count": 71,
     "metadata": {},
     "output_type": "execute_result"
    }
   ],
   "source": [
    "#The number of yeas,nays and others by the column.\n",
    "for i in df.columns: \n",
    "    df[i]=df[i].replace('?', np.NaN)\n",
    "    a[i] = df[i].dropna().value_counts().to_frame()\n",
    "a.drop(['Membership'], axis=1)"
   ]
  },
  {
   "cell_type": "code",
   "execution_count": 72,
   "metadata": {},
   "outputs": [
    {
     "data": {
      "text/html": [
       "<div>\n",
       "<style scoped>\n",
       "    .dataframe tbody tr th:only-of-type {\n",
       "        vertical-align: middle;\n",
       "    }\n",
       "\n",
       "    .dataframe tbody tr th {\n",
       "        vertical-align: top;\n",
       "    }\n",
       "\n",
       "    .dataframe thead th {\n",
       "        text-align: right;\n",
       "    }\n",
       "</style>\n",
       "<table border=\"1\" class=\"dataframe\">\n",
       "  <thead>\n",
       "    <tr style=\"text-align: right;\">\n",
       "      <th></th>\n",
       "      <th>Membership</th>\n",
       "    </tr>\n",
       "  </thead>\n",
       "  <tbody>\n",
       "    <tr>\n",
       "      <th>democrat</th>\n",
       "      <td>0.613793</td>\n",
       "    </tr>\n",
       "    <tr>\n",
       "      <th>republican</th>\n",
       "      <td>0.386207</td>\n",
       "    </tr>\n",
       "  </tbody>\n",
       "</table>\n",
       "</div>"
      ],
      "text/plain": [
       "            Membership\n",
       "democrat      0.613793\n",
       "republican    0.386207"
      ]
     },
     "execution_count": 72,
     "metadata": {},
     "output_type": "execute_result"
    }
   ],
   "source": [
    "#Number of Republicans and Democrats\n",
    "df['Membership'].value_counts(normalize=True).to_frame()"
   ]
  },
  {
   "cell_type": "markdown",
   "metadata": {},
   "source": [
    "### Which variable gives the best branch"
   ]
  },
  {
   "cell_type": "code",
   "execution_count": 84,
   "metadata": {},
   "outputs": [
    {
     "name": "stdout",
     "output_type": "stream",
     "text": [
      "(republican    0.567797\n",
      "democrat      0.432203\n",
      "Name: Membership, dtype: float64, democrat      0.834225\n",
      "republican    0.165775\n",
      "Name: Membership, dtype: float64)\n"
     ]
    }
   ],
   "source": [
    "yeasayers = df[df['Bill1'] == 'y']\n",
    "naysayers = df[df['Bill1'] == 'n']\n",
    "\n",
    "percentageYea = yeasayers['Membership'].value_counts(normalize=True)\n",
    "percentageNay = naysayers['Membership'].value_counts(normalize=True)\n",
    "\n",
    "print(percentageNay, percentageYea)"
   ]
  },
  {
   "cell_type": "code",
   "execution_count": 94,
   "metadata": {},
   "outputs": [
    {
     "name": "stdout",
     "output_type": "stream",
     "text": [
      "('Yeasayers Entropy: ', 0.647948835478525)\n",
      "('Naysayers Entropy: ', 0.9866967086735613)\n",
      "0.83694292076\n"
     ]
    }
   ],
   "source": [
    "#Entropy \n",
    "\n",
    "h_yeasayers = (-percentageYea.republican* np.log2(percentageYea.republican)) + (-percentageYea.democrat* np.log2(percentageYea.democrat))\n",
    "h_naysayers = (-percentageNay.republican* np.log2(percentageNay.republican)) + (-percentageNay.democrat* np.log2(percentageNay.democrat))\n",
    "\n",
    "print(\"Yeasayers Entropy: \", h_yeasayers)\n",
    "print(\"Naysayers Entropy: \", h_naysayers)\n",
    "\n",
    "#Weighted Entropy \n",
    "weight_yea = yeasayers.count()['Bill1']\n",
    "weight_nay = naysayers.count()['Bill1']\n",
    "\n",
    "weighted_entropy = (weight_yea*h_yeasayers + weight_nay*h_naysayers)/(weight_yea+weight_nay)\n",
    "print(weighted_entropy)"
   ]
  },
  {
   "cell_type": "code",
   "execution_count": 99,
   "metadata": {},
   "outputs": [
    {
     "data": {
      "text/html": [
       "<div>\n",
       "<style scoped>\n",
       "    .dataframe tbody tr th:only-of-type {\n",
       "        vertical-align: middle;\n",
       "    }\n",
       "\n",
       "    .dataframe tbody tr th {\n",
       "        vertical-align: top;\n",
       "    }\n",
       "\n",
       "    .dataframe thead th {\n",
       "        text-align: right;\n",
       "    }\n",
       "</style>\n",
       "<table border=\"1\" class=\"dataframe\">\n",
       "  <thead>\n",
       "    <tr style=\"text-align: right;\">\n",
       "      <th></th>\n",
       "      <th>Feature</th>\n",
       "      <th>Weighted Entropy</th>\n",
       "    </tr>\n",
       "  </thead>\n",
       "  <tbody>\n",
       "    <tr>\n",
       "      <th>0</th>\n",
       "      <td>Bill1</td>\n",
       "      <td>0.836943</td>\n",
       "    </tr>\n",
       "    <tr>\n",
       "      <th>1</th>\n",
       "      <td>Bill2</td>\n",
       "      <td>0.959725</td>\n",
       "    </tr>\n",
       "    <tr>\n",
       "      <th>2</th>\n",
       "      <td>Bill3</td>\n",
       "      <td>0.519205</td>\n",
       "    </tr>\n",
       "    <tr>\n",
       "      <th>3</th>\n",
       "      <td>Bill4</td>\n",
       "      <td>0.206111</td>\n",
       "    </tr>\n",
       "    <tr>\n",
       "      <th>4</th>\n",
       "      <td>Bill5</td>\n",
       "      <td>0.533355</td>\n",
       "    </tr>\n",
       "    <tr>\n",
       "      <th>5</th>\n",
       "      <td>Bill6</td>\n",
       "      <td>0.818473</td>\n",
       "    </tr>\n",
       "    <tr>\n",
       "      <th>6</th>\n",
       "      <td>Bill7</td>\n",
       "      <td>0.757289</td>\n",
       "    </tr>\n",
       "    <tr>\n",
       "      <th>7</th>\n",
       "      <td>Bill8</td>\n",
       "      <td>0.614420</td>\n",
       "    </tr>\n",
       "    <tr>\n",
       "      <th>8</th>\n",
       "      <td>Bill9</td>\n",
       "      <td>0.655859</td>\n",
       "    </tr>\n",
       "    <tr>\n",
       "      <th>9</th>\n",
       "      <td>Bill10</td>\n",
       "      <td>0.956768</td>\n",
       "    </tr>\n",
       "    <tr>\n",
       "      <th>10</th>\n",
       "      <td>Bill11</td>\n",
       "      <td>0.848411</td>\n",
       "    </tr>\n",
       "    <tr>\n",
       "      <th>11</th>\n",
       "      <td>Bill12</td>\n",
       "      <td>0.557894</td>\n",
       "    </tr>\n",
       "    <tr>\n",
       "      <th>12</th>\n",
       "      <td>Bill13</td>\n",
       "      <td>0.720090</td>\n",
       "    </tr>\n",
       "    <tr>\n",
       "      <th>13</th>\n",
       "      <td>Bill14</td>\n",
       "      <td>0.612774</td>\n",
       "    </tr>\n",
       "    <tr>\n",
       "      <th>14</th>\n",
       "      <td>Bill15</td>\n",
       "      <td>0.725166</td>\n",
       "    </tr>\n",
       "    <tr>\n",
       "      <th>15</th>\n",
       "      <td>Bill16</td>\n",
       "      <td>0.896750</td>\n",
       "    </tr>\n",
       "  </tbody>\n",
       "</table>\n",
       "</div>"
      ],
      "text/plain": [
       "   Feature  Weighted Entropy\n",
       "0    Bill1          0.836943\n",
       "1    Bill2          0.959725\n",
       "2    Bill3          0.519205\n",
       "3    Bill4          0.206111\n",
       "4    Bill5          0.533355\n",
       "5    Bill6          0.818473\n",
       "6    Bill7          0.757289\n",
       "7    Bill8          0.614420\n",
       "8    Bill9          0.655859\n",
       "9   Bill10          0.956768\n",
       "10  Bill11          0.848411\n",
       "11  Bill12          0.557894\n",
       "12  Bill13          0.720090\n",
       "13  Bill14          0.612774\n",
       "14  Bill15          0.725166\n",
       "15  Bill16          0.896750"
      ]
     },
     "execution_count": 99,
     "metadata": {},
     "output_type": "execute_result"
    }
   ],
   "source": [
    "#For all the features\n",
    "results = pd.DataFrame(columns = ['Feature','Weighted Entropy'])\n",
    "    \n",
    "for feature in df.columns.drop(['Membership']):\n",
    "    yeasayers_temp = df[df[feature] == 'y']\n",
    "    naysayers_temp = df[df[feature] == 'n']\n",
    "    percentageYea_temp = yeasayers_temp['Membership'].value_counts(normalize=True)\n",
    "    percentageNay_temp = naysayers_temp['Membership'].value_counts(normalize=True)\n",
    "    \n",
    "    h_yeasayers_temp = (-percentageYea_temp.republican* np.log2(percentageYea_temp.republican)) + (-percentageYea_temp.democrat* np.log2(percentageYea_temp.democrat))\n",
    "    h_naysayers_temp = (-percentageNay_temp.republican* np.log2(percentageNay_temp.republican)) + (-percentageNay_temp.democrat* np.log2(percentageNay_temp.democrat))\n",
    "    weight_yea_temp = yeasayers_temp.count()[feature]\n",
    "    weight_nay_temp = naysayers_temp.count()[feature]\n",
    "    \n",
    "    weighted_entropy_temp = (weight_yea_temp*h_yeasayers_temp + weight_nay_temp*h_naysayers_temp)/(weight_yea_temp+weight_nay_temp)\n",
    "    \n",
    "    to_append = pd.DataFrame({'Feature': [feature],'Weighted Entropy': [weighted_entropy_temp]})\n",
    "    results = results.append(to_append,ignore_index=True)\n",
    "\n",
    "\n",
    "results"
   ]
  },
  {
   "cell_type": "code",
   "execution_count": 104,
   "metadata": {},
   "outputs": [
    {
     "data": {
      "text/plain": [
       "Feature                Bill4\n",
       "Weighted Entropy    0.206111\n",
       "Name: 3, dtype: object"
      ]
     },
     "execution_count": 104,
     "metadata": {},
     "output_type": "execute_result"
    }
   ],
   "source": [
    "#The Best Split\n",
    "results.loc[results['Weighted Entropy'].idxmin()]"
   ]
  }
 ],
 "metadata": {
  "kernelspec": {
   "display_name": "Python 2",
   "language": "python",
   "name": "python2"
  },
  "language_info": {
   "codemirror_mode": {
    "name": "ipython",
    "version": 2
   },
   "file_extension": ".py",
   "mimetype": "text/x-python",
   "name": "python",
   "nbconvert_exporter": "python",
   "pygments_lexer": "ipython2",
   "version": "2.7.12"
  }
 },
 "nbformat": 4,
 "nbformat_minor": 2
}
